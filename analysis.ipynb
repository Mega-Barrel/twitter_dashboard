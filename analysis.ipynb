{
 "cells": [
  {
   "cell_type": "code",
   "execution_count": 1,
   "metadata": {},
   "outputs": [],
   "source": [
    "import pandas as pd\n",
    "import plotly.express as px\n",
    "import plotly.graph_objects as go"
   ]
  },
  {
   "cell_type": "code",
   "execution_count": 2,
   "metadata": {},
   "outputs": [],
   "source": [
    "df = pd.read_csv('./dataset/social_media.csv', low_memory=False)"
   ]
  },
  {
   "cell_type": "markdown",
   "metadata": {},
   "source": [
    "### Data Cleaning"
   ]
  },
  {
   "cell_type": "code",
   "execution_count": 4,
   "metadata": {},
   "outputs": [],
   "source": [
    "df.dropna(inplace=True)"
   ]
  },
  {
   "cell_type": "code",
   "execution_count": 5,
   "metadata": {},
   "outputs": [],
   "source": [
    "# converting string time to a timestamp\n",
    "df['time'] = pd.to_datetime(df['time'], errors='coerce')"
   ]
  },
  {
   "cell_type": "code",
   "execution_count": 7,
   "metadata": {},
   "outputs": [],
   "source": [
    "# Getting hour and month from the time column\n",
    "df['hour'] = df['time'].dt.hour\n",
    "df['month'] = df['time'].dt.month"
   ]
  },
  {
   "cell_type": "code",
   "execution_count": 8,
   "metadata": {},
   "outputs": [
    {
     "data": {
      "text/html": [
       "<div>\n",
       "<style scoped>\n",
       "    .dataframe tbody tr th:only-of-type {\n",
       "        vertical-align: middle;\n",
       "    }\n",
       "\n",
       "    .dataframe tbody tr th {\n",
       "        vertical-align: top;\n",
       "    }\n",
       "\n",
       "    .dataframe thead th {\n",
       "        text-align: right;\n",
       "    }\n",
       "</style>\n",
       "<table border=\"1\" class=\"dataframe\">\n",
       "  <thead>\n",
       "    <tr style=\"text-align: right;\">\n",
       "      <th></th>\n",
       "      <th>Tweet</th>\n",
       "      <th>id</th>\n",
       "      <th>time</th>\n",
       "      <th>impressions</th>\n",
       "      <th>engagements</th>\n",
       "      <th>engagement rate</th>\n",
       "      <th>retweets</th>\n",
       "      <th>replies</th>\n",
       "      <th>likes</th>\n",
       "      <th>user profile clicks</th>\n",
       "      <th>...</th>\n",
       "      <th>permalink clicks</th>\n",
       "      <th>app opens</th>\n",
       "      <th>app installs</th>\n",
       "      <th>follows</th>\n",
       "      <th>email tweet</th>\n",
       "      <th>dial phone</th>\n",
       "      <th>media views</th>\n",
       "      <th>media engagements</th>\n",
       "      <th>hour</th>\n",
       "      <th>month</th>\n",
       "    </tr>\n",
       "  </thead>\n",
       "  <tbody>\n",
       "    <tr>\n",
       "      <th>0</th>\n",
       "      <td>id ligula suspendisse ornare consequat lectus ...</td>\n",
       "      <td>6672567125560790</td>\n",
       "      <td>2020-06-30 21:09:00+00:00</td>\n",
       "      <td>365.0</td>\n",
       "      <td>4.0</td>\n",
       "      <td>0.010959</td>\n",
       "      <td>0.0</td>\n",
       "      <td>0</td>\n",
       "      <td>1.0</td>\n",
       "      <td>2.0</td>\n",
       "      <td>...</td>\n",
       "      <td>0</td>\n",
       "      <td>0</td>\n",
       "      <td>0</td>\n",
       "      <td>0</td>\n",
       "      <td>0</td>\n",
       "      <td>0</td>\n",
       "      <td>0.0</td>\n",
       "      <td>0.0</td>\n",
       "      <td>21</td>\n",
       "      <td>6</td>\n",
       "    </tr>\n",
       "    <tr>\n",
       "      <th>1</th>\n",
       "      <td>euismod scelerisque quam turpis adipiscing lor...</td>\n",
       "      <td>8265456713789040</td>\n",
       "      <td>2020-06-30 17:14:00+00:00</td>\n",
       "      <td>184.0</td>\n",
       "      <td>2.0</td>\n",
       "      <td>0.010870</td>\n",
       "      <td>0.0</td>\n",
       "      <td>0</td>\n",
       "      <td>2.0</td>\n",
       "      <td>0.0</td>\n",
       "      <td>...</td>\n",
       "      <td>0</td>\n",
       "      <td>0</td>\n",
       "      <td>0</td>\n",
       "      <td>0</td>\n",
       "      <td>0</td>\n",
       "      <td>0</td>\n",
       "      <td>0.0</td>\n",
       "      <td>0.0</td>\n",
       "      <td>17</td>\n",
       "      <td>6</td>\n",
       "    </tr>\n",
       "    <tr>\n",
       "      <th>2</th>\n",
       "      <td>leo rhoncus sed vestibulum sit amet cursus id ...</td>\n",
       "      <td>281117346800427</td>\n",
       "      <td>2020-06-30 16:59:00+00:00</td>\n",
       "      <td>2644.0</td>\n",
       "      <td>46.0</td>\n",
       "      <td>0.017398</td>\n",
       "      <td>1.0</td>\n",
       "      <td>1</td>\n",
       "      <td>17.0</td>\n",
       "      <td>0.0</td>\n",
       "      <td>...</td>\n",
       "      <td>0</td>\n",
       "      <td>0</td>\n",
       "      <td>0</td>\n",
       "      <td>0</td>\n",
       "      <td>0</td>\n",
       "      <td>0</td>\n",
       "      <td>354.0</td>\n",
       "      <td>1.0</td>\n",
       "      <td>16</td>\n",
       "      <td>6</td>\n",
       "    </tr>\n",
       "    <tr>\n",
       "      <th>3</th>\n",
       "      <td>aenean lectus pellentesque eget nunc donec qui...</td>\n",
       "      <td>7758025943576750</td>\n",
       "      <td>2020-06-30 13:55:00+00:00</td>\n",
       "      <td>301.0</td>\n",
       "      <td>3.0</td>\n",
       "      <td>0.009967</td>\n",
       "      <td>0.0</td>\n",
       "      <td>1</td>\n",
       "      <td>2.0</td>\n",
       "      <td>0.0</td>\n",
       "      <td>...</td>\n",
       "      <td>0</td>\n",
       "      <td>0</td>\n",
       "      <td>0</td>\n",
       "      <td>0</td>\n",
       "      <td>0</td>\n",
       "      <td>0</td>\n",
       "      <td>0.0</td>\n",
       "      <td>0.0</td>\n",
       "      <td>13</td>\n",
       "      <td>6</td>\n",
       "    </tr>\n",
       "    <tr>\n",
       "      <th>4</th>\n",
       "      <td>sed accumsan felis ut at dolor quis odio conse...</td>\n",
       "      <td>6131837006729570</td>\n",
       "      <td>2020-06-30 12:13:00+00:00</td>\n",
       "      <td>528.0</td>\n",
       "      <td>0.0</td>\n",
       "      <td>0.000000</td>\n",
       "      <td>0.0</td>\n",
       "      <td>0</td>\n",
       "      <td>0.0</td>\n",
       "      <td>0.0</td>\n",
       "      <td>...</td>\n",
       "      <td>0</td>\n",
       "      <td>0</td>\n",
       "      <td>0</td>\n",
       "      <td>0</td>\n",
       "      <td>0</td>\n",
       "      <td>0</td>\n",
       "      <td>0.0</td>\n",
       "      <td>0.0</td>\n",
       "      <td>12</td>\n",
       "      <td>6</td>\n",
       "    </tr>\n",
       "  </tbody>\n",
       "</table>\n",
       "<p>5 rows × 23 columns</p>\n",
       "</div>"
      ],
      "text/plain": [
       "                                               Tweet                id  \\\n",
       "0  id ligula suspendisse ornare consequat lectus ...  6672567125560790   \n",
       "1  euismod scelerisque quam turpis adipiscing lor...  8265456713789040   \n",
       "2  leo rhoncus sed vestibulum sit amet cursus id ...   281117346800427   \n",
       "3  aenean lectus pellentesque eget nunc donec qui...  7758025943576750   \n",
       "4  sed accumsan felis ut at dolor quis odio conse...  6131837006729570   \n",
       "\n",
       "                       time  impressions  engagements  engagement rate  \\\n",
       "0 2020-06-30 21:09:00+00:00        365.0          4.0         0.010959   \n",
       "1 2020-06-30 17:14:00+00:00        184.0          2.0         0.010870   \n",
       "2 2020-06-30 16:59:00+00:00       2644.0         46.0         0.017398   \n",
       "3 2020-06-30 13:55:00+00:00        301.0          3.0         0.009967   \n",
       "4 2020-06-30 12:13:00+00:00        528.0          0.0         0.000000   \n",
       "\n",
       "   retweets  replies  likes  user profile clicks  ...  permalink clicks  \\\n",
       "0       0.0        0    1.0                  2.0  ...                 0   \n",
       "1       0.0        0    2.0                  0.0  ...                 0   \n",
       "2       1.0        1   17.0                  0.0  ...                 0   \n",
       "3       0.0        1    2.0                  0.0  ...                 0   \n",
       "4       0.0        0    0.0                  0.0  ...                 0   \n",
       "\n",
       "   app opens  app installs  follows  email tweet  dial phone  media views  \\\n",
       "0          0             0        0            0           0          0.0   \n",
       "1          0             0        0            0           0          0.0   \n",
       "2          0             0        0            0           0        354.0   \n",
       "3          0             0        0            0           0          0.0   \n",
       "4          0             0        0            0           0          0.0   \n",
       "\n",
       "   media engagements  hour  month  \n",
       "0                0.0    21      6  \n",
       "1                0.0    17      6  \n",
       "2                1.0    16      6  \n",
       "3                0.0    13      6  \n",
       "4                0.0    12      6  \n",
       "\n",
       "[5 rows x 23 columns]"
      ]
     },
     "execution_count": 8,
     "metadata": {},
     "output_type": "execute_result"
    }
   ],
   "source": [
    "df.head(5)"
   ]
  },
  {
   "cell_type": "markdown",
   "metadata": {},
   "source": [
    "#### KPI cards texts"
   ]
  },
  {
   "cell_type": "code",
   "execution_count": 9,
   "metadata": {},
   "outputs": [
    {
     "name": "stdout",
     "output_type": "stream",
     "text": [
      "TOTAL TWEETS: 1166\n"
     ]
    }
   ],
   "source": [
    "# Total tweet card\n",
    "total_tweet = len(df)\n",
    "print(f'TOTAL TWEETS: {total_tweet}')"
   ]
  },
  {
   "cell_type": "code",
   "execution_count": 10,
   "metadata": {},
   "outputs": [
    {
     "name": "stdout",
     "output_type": "stream",
     "text": [
      "Avg impression: 781.9\n"
     ]
    }
   ],
   "source": [
    "# Average impression card\n",
    "avg_impression = round(df.impressions.sum()/len(df.impressions), 1)\n",
    "print(f'Avg impression: {avg_impression}')"
   ]
  },
  {
   "cell_type": "code",
   "execution_count": 16,
   "metadata": {},
   "outputs": [
    {
     "name": "stdout",
     "output_type": "stream",
     "text": [
      "Avg engagement: 7.2\n"
     ]
    }
   ],
   "source": [
    "# engagements rate card\n",
    "likes_retweet = df['likes'].sum()+df['retweets'].sum()\n",
    "\n",
    "avg_engagement = round(likes_retweet/len(df), 1)\n",
    "print(f'Avg engagement: {avg_engagement}')"
   ]
  },
  {
   "cell_type": "code",
   "execution_count": 12,
   "metadata": {},
   "outputs": [
    {
     "name": "stdout",
     "output_type": "stream",
     "text": [
      "Media Engagement Per Tweet: 52\n"
     ]
    }
   ],
   "source": [
    "# Media Engagement rate card\n",
    "media_engagement = int(df['media engagements'].sum()/len(df['media engagements']))\n",
    "print(f'Media Engagement Per Tweet: {media_engagement}')"
   ]
  },
  {
   "cell_type": "code",
   "execution_count": null,
   "metadata": {},
   "outputs": [],
   "source": []
  }
 ],
 "metadata": {
  "interpreter": {
   "hash": "63fd5069d213b44bf678585dea6b12cceca9941eaf7f819626cde1f2670de90d"
  },
  "kernelspec": {
   "display_name": "Python 3.9.1 64-bit",
   "language": "python",
   "name": "python3"
  },
  "language_info": {
   "codemirror_mode": {
    "name": "ipython",
    "version": 3
   },
   "file_extension": ".py",
   "mimetype": "text/x-python",
   "name": "python",
   "nbconvert_exporter": "python",
   "pygments_lexer": "ipython3",
   "version": "3.8.6"
  },
  "orig_nbformat": 4
 },
 "nbformat": 4,
 "nbformat_minor": 2
}
