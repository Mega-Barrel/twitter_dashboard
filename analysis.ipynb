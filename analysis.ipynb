{
 "cells": [
  {
   "cell_type": "code",
   "execution_count": 5,
   "metadata": {},
   "outputs": [],
   "source": [
    "import pandas as pd\n",
    "import plotly.express as px\n",
    "import plotly.graph_objects as go"
   ]
  },
  {
   "cell_type": "code",
   "execution_count": 6,
   "metadata": {},
   "outputs": [],
   "source": [
    "df = pd.read_csv('./dataset/social_media.csv', low_memory=False)"
   ]
  },
  {
   "cell_type": "code",
   "execution_count": 7,
   "metadata": {},
   "outputs": [
    {
     "data": {
      "text/html": [
       "<div>\n",
       "<style scoped>\n",
       "    .dataframe tbody tr th:only-of-type {\n",
       "        vertical-align: middle;\n",
       "    }\n",
       "\n",
       "    .dataframe tbody tr th {\n",
       "        vertical-align: top;\n",
       "    }\n",
       "\n",
       "    .dataframe thead th {\n",
       "        text-align: right;\n",
       "    }\n",
       "</style>\n",
       "<table border=\"1\" class=\"dataframe\">\n",
       "  <thead>\n",
       "    <tr style=\"text-align: right;\">\n",
       "      <th></th>\n",
       "      <th>Tweet</th>\n",
       "      <th>id</th>\n",
       "      <th>time</th>\n",
       "      <th>impressions</th>\n",
       "      <th>engagements</th>\n",
       "      <th>engagement rate</th>\n",
       "      <th>retweets</th>\n",
       "      <th>replies</th>\n",
       "      <th>likes</th>\n",
       "      <th>user profile clicks</th>\n",
       "      <th>...</th>\n",
       "      <th>hashtag clicks</th>\n",
       "      <th>detail expands</th>\n",
       "      <th>permalink clicks</th>\n",
       "      <th>app opens</th>\n",
       "      <th>app installs</th>\n",
       "      <th>follows</th>\n",
       "      <th>email tweet</th>\n",
       "      <th>dial phone</th>\n",
       "      <th>media views</th>\n",
       "      <th>media engagements</th>\n",
       "    </tr>\n",
       "  </thead>\n",
       "  <tbody>\n",
       "    <tr>\n",
       "      <th>0</th>\n",
       "      <td>id ligula suspendisse ornare consequat lectus ...</td>\n",
       "      <td>6672567125560790</td>\n",
       "      <td>2020-06-30 21:09 +0000</td>\n",
       "      <td>365.0</td>\n",
       "      <td>4.0</td>\n",
       "      <td>0.010959</td>\n",
       "      <td>0.0</td>\n",
       "      <td>0</td>\n",
       "      <td>1.0</td>\n",
       "      <td>2.0</td>\n",
       "      <td>...</td>\n",
       "      <td>0</td>\n",
       "      <td>1</td>\n",
       "      <td>0</td>\n",
       "      <td>0</td>\n",
       "      <td>0</td>\n",
       "      <td>0</td>\n",
       "      <td>0</td>\n",
       "      <td>0</td>\n",
       "      <td>0.0</td>\n",
       "      <td>0.0</td>\n",
       "    </tr>\n",
       "  </tbody>\n",
       "</table>\n",
       "<p>1 rows × 21 columns</p>\n",
       "</div>"
      ],
      "text/plain": [
       "                                               Tweet                id  \\\n",
       "0  id ligula suspendisse ornare consequat lectus ...  6672567125560790   \n",
       "\n",
       "                     time  impressions  engagements  engagement rate  \\\n",
       "0  2020-06-30 21:09 +0000        365.0          4.0         0.010959   \n",
       "\n",
       "   retweets  replies  likes  user profile clicks  ...  hashtag clicks  \\\n",
       "0       0.0        0    1.0                  2.0  ...               0   \n",
       "\n",
       "   detail expands  permalink clicks  app opens  app installs  follows  \\\n",
       "0               1                 0          0             0        0   \n",
       "\n",
       "   email tweet  dial phone  media views  media engagements  \n",
       "0            0           0          0.0                0.0  \n",
       "\n",
       "[1 rows x 21 columns]"
      ]
     },
     "execution_count": 7,
     "metadata": {},
     "output_type": "execute_result"
    }
   ],
   "source": [
    "df.head(1)"
   ]
  },
  {
   "cell_type": "markdown",
   "metadata": {},
   "source": [
    "### Data Cleaning"
   ]
  },
  {
   "cell_type": "code",
   "execution_count": null,
   "metadata": {},
   "outputs": [],
   "source": []
  },
  {
   "cell_type": "markdown",
   "metadata": {},
   "source": [
    "### KPI Cards"
   ]
  },
  {
   "cell_type": "code",
   "execution_count": 8,
   "metadata": {},
   "outputs": [
    {
     "name": "stdout",
     "output_type": "stream",
     "text": [
      "TOTAL TWEETS: 1181\n"
     ]
    }
   ],
   "source": [
    "# Total tweet card\n",
    "total_tweet = len(df)\n",
    "print(f'TOTAL TWEETS: {total_tweet}')"
   ]
  },
  {
   "cell_type": "code",
   "execution_count": null,
   "metadata": {},
   "outputs": [],
   "source": []
  }
 ],
 "metadata": {
  "interpreter": {
   "hash": "63fd5069d213b44bf678585dea6b12cceca9941eaf7f819626cde1f2670de90d"
  },
  "kernelspec": {
   "display_name": "Python 3.9.1 64-bit",
   "language": "python",
   "name": "python3"
  },
  "language_info": {
   "codemirror_mode": {
    "name": "ipython",
    "version": 3
   },
   "file_extension": ".py",
   "mimetype": "text/x-python",
   "name": "python",
   "nbconvert_exporter": "python",
   "pygments_lexer": "ipython3",
   "version": "3.8.6"
  },
  "orig_nbformat": 4
 },
 "nbformat": 4,
 "nbformat_minor": 2
}
